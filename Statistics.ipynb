{
 "cells": [
  {
   "cell_type": "markdown",
   "id": "9df0ca7e-4120-485d-b9c9-f2798e2affc0",
   "metadata": {},
   "source": [
    "# Ans : 1"
   ]
  },
  {
   "cell_type": "code",
   "execution_count": null,
   "id": "2fe2ac1d-16bf-480d-8fc3-67cebf15d25c",
   "metadata": {},
   "outputs": [],
   "source": [
    "'''\n",
    "The three measures of central tendency are:\n",
    "\n",
    "1. Mean: The mean is the sum of all the values in a dataset divided by the number of values. It's often referred to as the average. This measure is\n",
    "            sensitive to extreme values or outliers.\n",
    "\n",
    "2. Median: The median is the middle value in a dataset when it is arranged in ascending order. If there is an even number of observations, \n",
    "            the median is the average of the two middle values. It's less affected by extreme values compared to the mean.\n",
    "\n",
    "3. Mode: The mode is the value that appears most frequently in a dataset. A dataset can have one mode (unimodal), two modes (bimodal), or more than\n",
    "            two modes (multimodal). The mode can be useful for categorical data or discrete data where specific values are repeated.\n",
    "            \n",
    "'''"
   ]
  },
  {
   "cell_type": "markdown",
   "id": "aacfa78d-25bb-43fe-b508-334e86b4b118",
   "metadata": {},
   "source": [
    "# Ans : 2"
   ]
  },
  {
   "cell_type": "code",
   "execution_count": null,
   "id": "ea4b629e-61bc-401f-ac73-157b53f7a2f3",
   "metadata": {},
   "outputs": [],
   "source": [
    "'''\n",
    "The mean, median, and mode are all measures of central tendency, but they each capture different aspects of the data and are used in different scenarios.\n",
    "\n",
    "1. Mean: The mean is calculated by summing up all the values in the dataset and then dividing by the total number of values. It represents the average\n",
    "        value of the dataset. The mean is sensitive to extreme values or outliers because it takes into account the magnitude of all the values.\n",
    "        It's often used for interval or ratio data and is the most commonly used measure of central tendency.\n",
    "\n",
    "2. Median: The median is the middle value in a dataset when the values are arranged in ascending or descending order. If there is an even number\n",
    "        of observations, the median is the average of the two middle values. Unlike the mean, the median is not affected by extreme values or outliers\n",
    "        because it's based on the position of the values rather than their magnitude. It's particularly useful when dealing with skewed distributions or\n",
    "        ordinal data.\n",
    "\n",
    "3. Mode: The mode is the value that appears most frequently in a dataset. Unlike the mean and median, the mode doesn't consider the magnitude of the \n",
    "        values, only their frequency of occurrence. The mode is especially useful for categorical data or discrete data where specific values are repeated. \n",
    "        It can provide insights into the most common category or value in the dataset.\n",
    "\n",
    "The mean, median, and mode each provide different perspectives on the central tendency of a dataset. The mean gives the average value, the median \n",
    "gives the middle value, and the mode gives the most common value. They are used depending on the nature of the data and the specific characteristics \n",
    "of the dataset to provide a comprehensive understanding of the central tendency.\n",
    "\n",
    "'''"
   ]
  },
  {
   "cell_type": "markdown",
   "id": "d8ddb9c1-e94e-48aa-9382-fc93bf93c1ea",
   "metadata": {},
   "source": [
    "# Ans : 3"
   ]
  },
  {
   "cell_type": "code",
   "execution_count": 6,
   "id": "ec58943b-591e-41c7-84ac-66e0483a3805",
   "metadata": {},
   "outputs": [
    {
     "name": "stdout",
     "output_type": "stream",
     "text": [
      "mean =  177.01875\n",
      "median =  177.0\n",
      "median =  ModeResult(mode=array([177.]), count=array([3]))\n"
     ]
    },
    {
     "name": "stderr",
     "output_type": "stream",
     "text": [
      "/tmp/ipykernel_341/2079334483.py:6: FutureWarning: Unlike other reduction functions (e.g. `skew`, `kurtosis`), the default behavior of `mode` typically preserves the axis it acts along. In SciPy 1.11.0, this behavior will change: the default value of `keepdims` will become False, the `axis` over which the statistic is taken will be eliminated, and the value None will no longer be accepted. Set `keepdims` to True or False to avoid this warning.\n",
      "  mode=stats.mode(Height_data)\n"
     ]
    }
   ],
   "source": [
    "from scipy import stats\n",
    "import numpy as np\n",
    "Height_data=[178, 177, 176, 177, 178.2, 178, 175, 179, 180, 175, 178.9, 176.2, 177, 172.5, 178, 176.5]\n",
    "mean=np.mean(Height_data)\n",
    "median=np.median(Height_data)\n",
    "mode=stats.mode(Height_data)\n",
    "print(\"mean = \",mean)\n",
    "print(\"median = \",median)\n",
    "print(\"median = \",mode)\n",
    "      \n",
    "            "
   ]
  },
  {
   "cell_type": "markdown",
   "id": "df932e75-0787-4dce-a6ed-4bc005d4c583",
   "metadata": {},
   "source": [
    "# Ans : 4"
   ]
  },
  {
   "cell_type": "code",
   "execution_count": 8,
   "id": "c485ae52-48d0-4a1f-9ca7-c04eae43c132",
   "metadata": {},
   "outputs": [
    {
     "data": {
      "text/plain": [
       "1.7885814036548633"
      ]
     },
     "execution_count": 8,
     "metadata": {},
     "output_type": "execute_result"
    }
   ],
   "source": [
    "\n",
    "\n",
    "Data=[178,177,176,177,178.2,178,175,179,180,175,178.9,176.2,177,172.5,178,176.5]\n",
    "\n",
    "np.std(Data)\n",
    "\n"
   ]
  },
  {
   "cell_type": "markdown",
   "id": "bf52c593-213d-4cb1-a460-81fa8b0fbe98",
   "metadata": {},
   "source": [
    "# Ans : 5"
   ]
  },
  {
   "cell_type": "code",
   "execution_count": 1,
   "id": "105a914c-eb97-49f5-a859-d3b8a32a34ce",
   "metadata": {},
   "outputs": [
    {
     "name": "stdout",
     "output_type": "stream",
     "text": [
      "Dataset: [10 15 20 25 30]\n",
      "Range: 20\n",
      "Variance: 50.0\n",
      "Standard Deviation: 7.0710678118654755\n"
     ]
    }
   ],
   "source": [
    "'''\n",
    "Measures of dispersion such as range, variance, and standard deviation are used to describe the spread or variability of a dataset.\n",
    "\n",
    "Range : It's the difference between the maximum and minimum values in a dataset. It gives a simple indication of the spread of data points.\n",
    "\n",
    "Variance : It measures how much the data values deviate from the mean. A higher variance indicates that the data points are spread out over a wider range.\n",
    "\n",
    "Standard Deviation: It's the square root of the variance. It's often preferred over variance as it is in the same units as the original data and provides a measure of dispersion that is easier to interpret.\n",
    "\n",
    "'''\n",
    "\n",
    "import numpy as np\n",
    "\n",
    "data = np.array([10, 15, 20, 25, 30])\n",
    "data_range = np.max(data) - np.min(data)\n",
    "data_variance = np.var(data)\n",
    "data_std_dev = np.std(data)\n",
    "\n",
    "print(\"Dataset:\", data)\n",
    "print(\"Range:\", data_range)\n",
    "print(\"Variance:\", data_variance)\n",
    "print(\"Standard Deviation:\", data_std_dev)\n"
   ]
  },
  {
   "cell_type": "markdown",
   "id": "b2fdac42-9e7f-4d7a-8196-3303bdbaae89",
   "metadata": {},
   "source": [
    "# Ans : 6"
   ]
  },
  {
   "cell_type": "code",
   "execution_count": null,
   "id": "b228f382-1b33-4e55-bf11-e128177f1aa8",
   "metadata": {},
   "outputs": [],
   "source": [
    "'''\n",
    "A Venn diagram is a visual representation used to illustrate the relationships between different sets or groups of data. It consists of\n",
    "overlapping circles, each representing a set, with the overlapping areas representing the elements that are common to those sets.\n",
    "\n",
    "'''"
   ]
  },
  {
   "cell_type": "markdown",
   "id": "cfd5339e-bc76-47e3-ac00-06599d665df7",
   "metadata": {},
   "source": [
    "# Ans : 7"
   ]
  },
  {
   "cell_type": "code",
   "execution_count": 1,
   "id": "14ccde6f-5e29-4dcc-aa0c-c0f17071156c",
   "metadata": {},
   "outputs": [
    {
     "data": {
      "text/plain": [
       "'\\nA = (2,3,4,5,6,7) \\nB = (0,2,6,8,10)\\n\\nIntersaction of A & B : (2,6)\\nUnion of A & B : (0,2,3,4,5,6,7,8,10)\\n\\n'"
      ]
     },
     "execution_count": 1,
     "metadata": {},
     "output_type": "execute_result"
    }
   ],
   "source": [
    "'''\n",
    "A = (2,3,4,5,6,7) \n",
    "B = (0,2,6,8,10)\n",
    "\n",
    "Intersaction of A & B : (2,6)\n",
    "Union of A & B : (0,2,3,4,5,6,7,8,10)\n",
    "\n",
    "'''"
   ]
  },
  {
   "cell_type": "markdown",
   "id": "4a19471c-00f2-4b49-9635-dd0910a7e276",
   "metadata": {},
   "source": [
    "# Ans : 8"
   ]
  },
  {
   "cell_type": "code",
   "execution_count": null,
   "id": "818c772a-efd8-45fd-9731-6f4b16566b3c",
   "metadata": {},
   "outputs": [],
   "source": [
    "'''\n",
    "\n",
    "Skewness is a measure of the asymmetry of the probability distribution of a real-valued random variable about its mean. \n",
    "It tells us about the shape of the distribution.\n",
    "\n",
    "- Positive Skewness (Right Skewed): If the tail on the right side of the distribution is longer or fatter than the left side, we say the data is \n",
    "                    positively skewed. This means that the mass of the distribution is concentrated on the left side, with the tail on the right.\n",
    "                    \n",
    "- Negative Skewness (Left Skewed): If the tail on the left side of the distribution is longer or fatter than the right side, we say the data is\n",
    "                    negatively skewed. This means that the mass of the distribution is concentrated on the right side, with the tail on the left.\n",
    "                    \n",
    "- Zero Skewness: If the distribution is symmetric, then the skewness is zero. This implies that the left and right tails of the distribution are \n",
    "                    equally balanced around the mean.\n",
    "\n",
    "Skewness can be calculated using various statistical methods. One common measure of skewness is Pearson's skewness coefficient, which is calculated \n",
    "as the third standardized moment\n",
    "\n",
    "'''\n"
   ]
  },
  {
   "cell_type": "markdown",
   "id": "6a3f83e1-6335-482f-a49d-5ef17bdbd6ed",
   "metadata": {},
   "source": [
    "# Ans : 9"
   ]
  },
  {
   "cell_type": "code",
   "execution_count": null,
   "id": "32d8e783-cfb0-4f01-9a47-65869f91a57b",
   "metadata": {},
   "outputs": [],
   "source": [
    "'''\n",
    "\n",
    "In a right-skewed distribution, the tail on the right side of the distribution is longer or fatter than the left side. This means that there are more\n",
    "extreme values on the right side, pulling the mean in that direction. As a result, the mean is typically greater than the median.\n",
    "\n",
    "In a right-skewed distribution:\n",
    "\n",
    "Mean > Median\n",
    "\n",
    "'''"
   ]
  },
  {
   "cell_type": "markdown",
   "id": "e358ee0f-7adc-4b16-8e5a-988ebc8ead8a",
   "metadata": {},
   "source": [
    "# Ans : 10"
   ]
  },
  {
   "cell_type": "code",
   "execution_count": null,
   "id": "af7416f7-58f1-41cd-8e0f-d1bfc905ae51",
   "metadata": {},
   "outputs": [],
   "source": [
    "'''\n",
    "Covariance and correlation are both measures used to describe the relationship and the degree of dependency between two random variables in a dataset.\n",
    "\n",
    "Covariance:\n",
    "    1. Covariance measures the degree to which two variables change together. If the covariance is positive, it means that as one variable increases, \n",
    "        the other variable tends to increase as well. If the covariance is negative, it means that as one variable increases, the other variable tends to decrease.\n",
    "    2. The magnitude of covariance doesn't have a standard scale, so it's difficult to interpret the strength of the relationship. It depends on the units of the variables.\n",
    "    3. Covariance can take on any value, positive, negative, or zero.\n",
    "    \n",
    "    \n",
    "Correlation:\n",
    "    1. Correlation is a standardized measure of the relationship between two variables. It's a dimensionless quantity, meaning it has no units and always lies between -1 and 1.\n",
    "    2. Correlation provides a more interpretable measure of the strength and direction of the linear relationship between two variables.\n",
    "        A correlation of 1 indicates a perfect positive linear relationship, -1 indicates a perfect negative linear relationship, and 0 indicates no linear relationship.\n",
    "        \n",
    "    \n",
    "In statistical analysis:\n",
    "\n",
    "- Covariance is used to understand how two variables vary together. However, its interpretation can be challenging due to its units and scale.\n",
    "- Correlation is used to understand the strength and direction of the linear relationship between two variables. It's a more interpretable measure and \n",
    "    is widely used in various fields such as finance, economics, social sciences, and natural sciences.\n",
    "- Both covariance and correlation are important tools for data analysis and are used to make predictions, identify patterns, and understand the relationships between variables in datasets.\n",
    "\n",
    "'''"
   ]
  },
  {
   "cell_type": "markdown",
   "id": "25af717d-c8a0-49db-8809-f4e94542900d",
   "metadata": {},
   "source": [
    "# Ans : 11"
   ]
  },
  {
   "cell_type": "code",
   "execution_count": 4,
   "id": "459dce46-4824-4c97-aa8f-8cbe50e71475",
   "metadata": {},
   "outputs": [
    {
     "data": {
      "text/plain": [
       "34.285714285714285"
      ]
     },
     "execution_count": 4,
     "metadata": {},
     "output_type": "execute_result"
    }
   ],
   "source": [
    "'''\n",
    "\n",
    "Formula for calculating sample mean is : (sum of all data point / no. of data point)\n",
    "\n",
    "'''\n",
    "\n",
    "# Example\n",
    "import numpy as np\n",
    "data=[10,20,30,40,50,60,30]\n",
    "np.mean(data)\n"
   ]
  },
  {
   "cell_type": "markdown",
   "id": "ab90c729-a9af-4810-bba4-31ae55a548a5",
   "metadata": {},
   "source": [
    "# Ans : 12"
   ]
  },
  {
   "cell_type": "code",
   "execution_count": null,
   "id": "71185953-186c-4e1e-86fc-9ebf84ebdd22",
   "metadata": {
    "tags": []
   },
   "outputs": [],
   "source": [
    "'''\n",
    "1. Mean: The mean of a normal distribution is located at the center of the distribution. In a perfectly normal distribution, the mean is equal to the median and the mode.\n",
    "2. Median: In a symmetric distribution like the normal distribution, the median is also at the center of the distribution. Since the normal distribution is symmetric,\n",
    "    the median is equal to the mean and the mode.\n",
    "3. Mode: In a normal distribution, the mode is the peak of the distribution. Because the normal distribution is symmetric, the peak occurs at the same point as the mean and median.\n",
    "\n",
    "\n",
    "Relationship:\n",
    "        \n",
    "        Mean=Median=Mode\n",
    "        \n",
    "'''\n"
   ]
  },
  {
   "cell_type": "markdown",
   "id": "d8af42e9-81ac-4ecb-bbfe-b52d7e9bf1aa",
   "metadata": {},
   "source": [
    "# Ans : 13"
   ]
  },
  {
   "cell_type": "code",
   "execution_count": null,
   "id": "54463dd5-4442-4ef6-bf10-4df52339f929",
   "metadata": {},
   "outputs": [],
   "source": [
    "'''\n",
    "Covariance and correlation are both measures used to describe the relationship between two variables. Difference is :\n",
    "\n",
    "Definition:\n",
    "        1. Covariance measures the degree to which two variables change together. It indicates the direction of the linear relationship between the variables.\n",
    "        2. Correlation, on the other hand, is a standardized measure of the relationship between two variables. It not only indicates the direction but also the strength of the linear relationship between the variables. Correlation is dimensionless and always ranges between -1 and 1.\n",
    "\n",
    "Scale:\n",
    "        1. Covariance is not standardized, meaning its value is in the units of the variables being measured. Therefore, it's difficult to interpret the magnitude of covariance since it depends on the scale of the variables.\n",
    "        2. Correlation, being standardized, is unitless and always ranges between -1 and 1, making it easier to interpret. A correlation of 1 indicates a perfect positive linear relationship, -1 indicates a perfect negative linear relationship, and 0 indicates no linear relationship.\n",
    "\n",
    "Interpretation:\n",
    "        1. Covariance provides information about the direction of the relationship between two variables (positive or negative), but it doesn't tell us about the strength of the relationship.\n",
    "        2. Correlation provides information about both the direction and the strength of the linear relationship between two variables. It allows for easier comparison between different pairs of variables, regardless of the scale of measurement.\n",
    "    \n",
    "'''"
   ]
  },
  {
   "cell_type": "markdown",
   "id": "fee56d27-24c1-4613-9063-edfddbe4111f",
   "metadata": {},
   "source": [
    "# Ans : 14"
   ]
  },
  {
   "cell_type": "code",
   "execution_count": 7,
   "id": "c6df8ad8-5f1b-4a8d-9234-1798911edaea",
   "metadata": {},
   "outputs": [
    {
     "name": "stderr",
     "output_type": "stream",
     "text": [
      "/tmp/ipykernel_77/2207630011.py:24: FutureWarning: Unlike other reduction functions (e.g. `skew`, `kurtosis`), the default behavior of `mode` typically preserves the axis it acts along. In SciPy 1.11.0, this behavior will change: the default value of `keepdims` will become False, the `axis` over which the statistic is taken will be eliminated, and the value None will no longer be accepted. Set `keepdims` to True or False to avoid this warning.\n",
      "  mode=stats.mode(data)\n"
     ]
    }
   ],
   "source": [
    "'''\n",
    "Outliers are data points that significantly differ from the rest of the observations in a dataset. They can have a substantial impact on measures of central tendency and dispersion.\n",
    "\n",
    "Impact on Measures of Central Tendency:\n",
    "    1. Mean: Outliers can heavily influence the mean since it's sensitive to extreme values. A single outlier can significantly shift the mean towards it. \n",
    "    2. Median: The median is less affected by outliers since it only considers the middle value of the dataset. Outliers don't have as much impact on the\n",
    "        median unless they are very extreme and affect the order of the data significantly.\n",
    "    3. Mode: Outliers generally don't affect the mode since it represents the most frequent value(s) in the dataset. \n",
    "    \n",
    "    \n",
    "Impact on Measures of Dispersion:\n",
    "    1. Range: Outliers can greatly affect the range since they contribute to the spread of values. Including outliers in the dataset can result in a wider range compared to excluding them.\n",
    "    2. Standard Deviation/Variance: Outliers can inflate the standard deviation and variance, especially if they are far from the mean. Since these measures consider the deviation of \n",
    "        each data point from the mean, outliers can increase the overall variability in the dataset\n",
    "        \n",
    "    \n",
    "'''\n",
    "\n",
    "# Example\n",
    "from scipy import stats\n",
    "data=[1 ,2 ,3, 4, 2, 3 ,2,100]\n",
    "mean=np.mean(data)\n",
    "median=np.median(data)\n",
    "mode=stats.mode(data)\n",
    "variance=np.var(data)\n",
    "standard_daviation=np.std(data)\n",
    "print('mean : ',mean)\n"
   ]
  },
  {
   "cell_type": "code",
   "execution_count": null,
   "id": "8aae80a1-4574-491e-b4a1-6717167fb6ff",
   "metadata": {},
   "outputs": [],
   "source": []
  }
 ],
 "metadata": {
  "kernelspec": {
   "display_name": "Python 3 (ipykernel)",
   "language": "python",
   "name": "python3"
  },
  "language_info": {
   "codemirror_mode": {
    "name": "ipython",
    "version": 3
   },
   "file_extension": ".py",
   "mimetype": "text/x-python",
   "name": "python",
   "nbconvert_exporter": "python",
   "pygments_lexer": "ipython3",
   "version": "3.10.8"
  }
 },
 "nbformat": 4,
 "nbformat_minor": 5
}
